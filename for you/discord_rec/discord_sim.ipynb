{
 "cells": [
  {
   "cell_type": "code",
   "execution_count": null,
   "metadata": {},
   "outputs": [],
   "source": [
    "import sys\n",
    "!{sys.executable} -m pip install pandas\n",
    "!{sys.executable} -m pip install spacy\n",
    "!{sys.executable} -m pip install https://github.com/explosion/spacy-models/releases/download/en_core_web_sm-2.2.0/en_core_web_sm-2.2.0.tar.gz\n",
    "!python -m spacy download en_core_web_sm\n",
    "import pandas as pd\n",
    "import spacy"
   ]
  },
  {
   "cell_type": "code",
   "execution_count": null,
   "metadata": {},
   "outputs": [],
   "source": [
    "def get_similar(s):\n",
    "    \"\"\"input string s: user's writing sample\n",
    "        output list out: ordered list with name, username, intro text, similarity score\"\"\"\n",
    "    nlp = spacy.load('en_core_web_sm')\n",
    "\n",
    "    attributes = s\n",
    "\n",
    "    reviews_df = pd.read_csv(\"discord_applicants.csv\", engine='python')\n",
    "    \n",
    "    reviews_df = reviews_df.dropna() \n",
    "    \n",
    "    reviews_df['similarity'] = -1\n",
    "\n",
    "    for index, row in reviews_df.iterrows():\n",
    "        reviews_df.loc[index, 'similarity'] = nlp(row[\"Text\"]).similarity(nlp(attributes))\n",
    "        \n",
    "    reviews_df = reviews_df.sort_values(by=['similarity'], ascending=False)\n",
    "    \n",
    "    for i, row in reviews_df.iterrows():\n",
    "        reviews_df.at[i, 'Text'] = reviews_df.at[i, 'Text'].encode('utf-8') \n",
    "        \n",
    "    \n",
    "    # drop introductions they wrote of themselves\n",
    "    for sim in reviews_df['similarity']:\n",
    "        if sim > .95:\n",
    "            reviews_df.drop(reviews_df.loc[reviews_df['similarity']==sim].index, inplace=True)\n",
    "            \n",
    "    return reviews_df.values.tolist()\n",
    "    \n",
    "    "
   ]
  },
  {
   "cell_type": "code",
   "execution_count": null,
   "metadata": {
    "scrolled": false
   },
   "outputs": [],
   "source": [
    "# Sample input with outputted list\n",
    "print(get_similar(\"Hello! My name is Annemarie! I’m a freshman general Engineering major (hopefully mechanical) at Texas A&M. My coding experience is limited, but I’m happy for any experience I can get to add to it!\"))\n",
    "\n"
   ]
  },
  {
   "cell_type": "code",
   "execution_count": null,
   "metadata": {},
   "outputs": [],
   "source": []
  }
 ],
 "metadata": {
  "kernelspec": {
   "display_name": "Python 3",
   "language": "python",
   "name": "python3"
  },
  "language_info": {
   "codemirror_mode": {
    "name": "ipython",
    "version": 3
   },
   "file_extension": ".py",
   "mimetype": "text/x-python",
   "name": "python",
   "nbconvert_exporter": "python",
   "pygments_lexer": "ipython3",
   "version": "3.8.6"
  }
 },
 "nbformat": 4,
 "nbformat_minor": 4
}
