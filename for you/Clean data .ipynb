{
 "cells": [
  {
   "cell_type": "code",
   "execution_count": 64,
   "metadata": {},
   "outputs": [],
   "source": [
    "import numpy as np\n",
    "import pandas as pd\n",
    "import matplotlib.pyplot as plt\n",
    "import seaborn as sns\n",
    "sns.set_style('darkgrid')\n",
    "pd.options.mode.chained_assignment = None\n",
    "\n",
    "root = 'C:/Data/for-you/'\n",
    "import os"
   ]
  },
  {
   "cell_type": "code",
   "execution_count": 65,
   "metadata": {},
   "outputs": [],
   "source": [
    "applicants = pd.read_csv(root+'applicants.csv')\n",
    "bootcamp = pd.read_csv(root+'bootcamp_turnout.csv')\n",
    "queries = pd.read_csv(root+'queries.csv')\n",
    "workshops = pd.read_csv(root+'workshops.csv')"
   ]
  },
  {
   "cell_type": "code",
   "execution_count": 66,
   "metadata": {},
   "outputs": [
    {
     "data": {
      "text/html": [
       "<div>\n",
       "<style scoped>\n",
       "    .dataframe tbody tr th:only-of-type {\n",
       "        vertical-align: middle;\n",
       "    }\n",
       "\n",
       "    .dataframe tbody tr th {\n",
       "        vertical-align: top;\n",
       "    }\n",
       "\n",
       "    .dataframe thead th {\n",
       "        text-align: right;\n",
       "    }\n",
       "</style>\n",
       "<table border=\"1\" class=\"dataframe\">\n",
       "  <thead>\n",
       "    <tr style=\"text-align: right;\">\n",
       "      <th></th>\n",
       "      <th>userid</th>\n",
       "      <th>school</th>\n",
       "      <th>other_school</th>\n",
       "      <th>majors</th>\n",
       "      <th>minors</th>\n",
       "      <th>age_bin</th>\n",
       "      <th>classification</th>\n",
       "      <th>first_generation</th>\n",
       "      <th>datascience_experience</th>\n",
       "      <th>technology_experience</th>\n",
       "      <th>num_hackathons_attended</th>\n",
       "      <th>workshop_suggestions</th>\n",
       "      <th>relavent_industries</th>\n",
       "    </tr>\n",
       "  </thead>\n",
       "  <tbody>\n",
       "    <tr>\n",
       "      <th>0</th>\n",
       "      <td>95030aef3e970680d882f1527f549d9e</td>\n",
       "      <td>Texas A&amp;M University</td>\n",
       "      <td>NaN</td>\n",
       "      <td>['Landscape Architecture &amp; Urban Planning', 'P...</td>\n",
       "      <td>['Soil and Crop Sciences']</td>\n",
       "      <td>(25, 30]</td>\n",
       "      <td>Ma</td>\n",
       "      <td>False</td>\n",
       "      <td>2</td>\n",
       "      <td>['Excel', 'Python', 'Tableau', 'Pandas']</td>\n",
       "      <td>0</td>\n",
       "      <td>Python Fundamentals (Functions/Loops)\\nVisuali...</td>\n",
       "      <td>['consulting', 'public_policy', 'other']</td>\n",
       "    </tr>\n",
       "    <tr>\n",
       "      <th>1</th>\n",
       "      <td>68ad76832a913de0d62df103b3d5b807</td>\n",
       "      <td>Texas A&amp;M University</td>\n",
       "      <td>NaN</td>\n",
       "      <td>['Electrical Engineering', 'Material Science',...</td>\n",
       "      <td>[]</td>\n",
       "      <td>(18, 20]</td>\n",
       "      <td>Jr</td>\n",
       "      <td>True</td>\n",
       "      <td>2</td>\n",
       "      <td>['Excel', 'Python', 'Pandas', 'NumPy', 'MATLAB']</td>\n",
       "      <td>0</td>\n",
       "      <td>Training videos on different levels of machine...</td>\n",
       "      <td>['technology', 'education', 'healthcare', 'ins...</td>\n",
       "    </tr>\n",
       "    <tr>\n",
       "      <th>2</th>\n",
       "      <td>959d8992667c8bfc1ac665f234360eb6</td>\n",
       "      <td>Oregon State University</td>\n",
       "      <td>NaN</td>\n",
       "      <td>['Computer Science &amp; Engineering']</td>\n",
       "      <td>[]</td>\n",
       "      <td>(22, 25]</td>\n",
       "      <td>Ma</td>\n",
       "      <td>True</td>\n",
       "      <td>2</td>\n",
       "      <td>['Python', 'Pytorch', 'Pandas', 'NumPy', 'Scik...</td>\n",
       "      <td>0</td>\n",
       "      <td>NaN</td>\n",
       "      <td>['technology']</td>\n",
       "    </tr>\n",
       "    <tr>\n",
       "      <th>3</th>\n",
       "      <td>76b067cd5f3e1b1976d2e2eeceedf567</td>\n",
       "      <td>Arizona State University, Tempe Campus</td>\n",
       "      <td>NaN</td>\n",
       "      <td>['Biomedical Engineering']</td>\n",
       "      <td>[]</td>\n",
       "      <td>(18, 20]</td>\n",
       "      <td>Jr</td>\n",
       "      <td>False</td>\n",
       "      <td>1</td>\n",
       "      <td>['Excel', 'MATLAB']</td>\n",
       "      <td>0</td>\n",
       "      <td>Python data science</td>\n",
       "      <td>['technology', 'healthcare']</td>\n",
       "    </tr>\n",
       "    <tr>\n",
       "      <th>4</th>\n",
       "      <td>f44cfb96520a82e172ce2ae116b21187</td>\n",
       "      <td>Texas A&amp;M University</td>\n",
       "      <td>NaN</td>\n",
       "      <td>['Computer Science &amp; Engineering']</td>\n",
       "      <td>[]</td>\n",
       "      <td>(22, 25]</td>\n",
       "      <td>Sr</td>\n",
       "      <td>False</td>\n",
       "      <td>1</td>\n",
       "      <td>['Python', 'Pandas']</td>\n",
       "      <td>0</td>\n",
       "      <td>NaN</td>\n",
       "      <td>[]</td>\n",
       "    </tr>\n",
       "  </tbody>\n",
       "</table>\n",
       "</div>"
      ],
      "text/plain": [
       "                             userid                                  school  \\\n",
       "0  95030aef3e970680d882f1527f549d9e                    Texas A&M University   \n",
       "1  68ad76832a913de0d62df103b3d5b807                    Texas A&M University   \n",
       "2  959d8992667c8bfc1ac665f234360eb6                 Oregon State University   \n",
       "3  76b067cd5f3e1b1976d2e2eeceedf567  Arizona State University, Tempe Campus   \n",
       "4  f44cfb96520a82e172ce2ae116b21187                    Texas A&M University   \n",
       "\n",
       "  other_school                                             majors  \\\n",
       "0          NaN  ['Landscape Architecture & Urban Planning', 'P...   \n",
       "1          NaN  ['Electrical Engineering', 'Material Science',...   \n",
       "2          NaN                 ['Computer Science & Engineering']   \n",
       "3          NaN                         ['Biomedical Engineering']   \n",
       "4          NaN                 ['Computer Science & Engineering']   \n",
       "\n",
       "                       minors   age_bin classification  first_generation  \\\n",
       "0  ['Soil and Crop Sciences']  (25, 30]             Ma             False   \n",
       "1                          []  (18, 20]             Jr              True   \n",
       "2                          []  (22, 25]             Ma              True   \n",
       "3                          []  (18, 20]             Jr             False   \n",
       "4                          []  (22, 25]             Sr             False   \n",
       "\n",
       "   datascience_experience                              technology_experience  \\\n",
       "0                       2           ['Excel', 'Python', 'Tableau', 'Pandas']   \n",
       "1                       2   ['Excel', 'Python', 'Pandas', 'NumPy', 'MATLAB']   \n",
       "2                       2  ['Python', 'Pytorch', 'Pandas', 'NumPy', 'Scik...   \n",
       "3                       1                                ['Excel', 'MATLAB']   \n",
       "4                       1                               ['Python', 'Pandas']   \n",
       "\n",
       "  num_hackathons_attended                               workshop_suggestions  \\\n",
       "0                       0  Python Fundamentals (Functions/Loops)\\nVisuali...   \n",
       "1                       0  Training videos on different levels of machine...   \n",
       "2                       0                                                NaN   \n",
       "3                       0                                Python data science   \n",
       "4                       0                                                NaN   \n",
       "\n",
       "                                 relavent_industries  \n",
       "0           ['consulting', 'public_policy', 'other']  \n",
       "1  ['technology', 'education', 'healthcare', 'ins...  \n",
       "2                                     ['technology']  \n",
       "3                       ['technology', 'healthcare']  \n",
       "4                                                 []  "
      ]
     },
     "execution_count": 66,
     "metadata": {},
     "output_type": "execute_result"
    }
   ],
   "source": [
    "applicants.head()"
   ]
  },
  {
   "cell_type": "code",
   "execution_count": 67,
   "metadata": {},
   "outputs": [
    {
     "data": {
      "text/html": [
       "<div>\n",
       "<style scoped>\n",
       "    .dataframe tbody tr th:only-of-type {\n",
       "        vertical-align: middle;\n",
       "    }\n",
       "\n",
       "    .dataframe tbody tr th {\n",
       "        vertical-align: top;\n",
       "    }\n",
       "\n",
       "    .dataframe thead th {\n",
       "        text-align: right;\n",
       "    }\n",
       "</style>\n",
       "<table border=\"1\" class=\"dataframe\">\n",
       "  <thead>\n",
       "    <tr style=\"text-align: right;\">\n",
       "      <th></th>\n",
       "      <th>userid</th>\n",
       "      <th>workshop</th>\n",
       "    </tr>\n",
       "  </thead>\n",
       "  <tbody>\n",
       "    <tr>\n",
       "      <th>0</th>\n",
       "      <td>f48d02fd46d249ab2c37f925f405139f</td>\n",
       "      <td>Data Science: Start Here</td>\n",
       "    </tr>\n",
       "    <tr>\n",
       "      <th>1</th>\n",
       "      <td>f48d02fd46d249ab2c37f925f405139f</td>\n",
       "      <td>Getting a Job in Data Science</td>\n",
       "    </tr>\n",
       "    <tr>\n",
       "      <th>2</th>\n",
       "      <td>f4610ad445934181ac9982f6ba818907</td>\n",
       "      <td>Story Telling With Data</td>\n",
       "    </tr>\n",
       "    <tr>\n",
       "      <th>3</th>\n",
       "      <td>f4610ad445934181ac9982f6ba818907</td>\n",
       "      <td>Convolutional Neural Networks &amp; Semantic Segme...</td>\n",
       "    </tr>\n",
       "    <tr>\n",
       "      <th>4</th>\n",
       "      <td>f4610ad445934181ac9982f6ba818907</td>\n",
       "      <td>Machine Learning: Start Here</td>\n",
       "    </tr>\n",
       "  </tbody>\n",
       "</table>\n",
       "</div>"
      ],
      "text/plain": [
       "                             userid  \\\n",
       "0  f48d02fd46d249ab2c37f925f405139f   \n",
       "1  f48d02fd46d249ab2c37f925f405139f   \n",
       "2  f4610ad445934181ac9982f6ba818907   \n",
       "3  f4610ad445934181ac9982f6ba818907   \n",
       "4  f4610ad445934181ac9982f6ba818907   \n",
       "\n",
       "                                            workshop  \n",
       "0                           Data Science: Start Here  \n",
       "1                      Getting a Job in Data Science  \n",
       "2                            Story Telling With Data  \n",
       "3  Convolutional Neural Networks & Semantic Segme...  \n",
       "4                       Machine Learning: Start Here  "
      ]
     },
     "execution_count": 67,
     "metadata": {},
     "output_type": "execute_result"
    }
   ],
   "source": [
    "bootcamp.head()"
   ]
  },
  {
   "cell_type": "code",
   "execution_count": 68,
   "metadata": {},
   "outputs": [
    {
     "data": {
      "text/html": [
       "<div>\n",
       "<style scoped>\n",
       "    .dataframe tbody tr th:only-of-type {\n",
       "        vertical-align: middle;\n",
       "    }\n",
       "\n",
       "    .dataframe tbody tr th {\n",
       "        vertical-align: top;\n",
       "    }\n",
       "\n",
       "    .dataframe thead th {\n",
       "        text-align: right;\n",
       "    }\n",
       "</style>\n",
       "<table border=\"1\" class=\"dataframe\">\n",
       "  <thead>\n",
       "    <tr style=\"text-align: right;\">\n",
       "      <th></th>\n",
       "      <th>event</th>\n",
       "      <th>workshop</th>\n",
       "      <th>tags</th>\n",
       "      <th>description</th>\n",
       "      <th>track</th>\n",
       "      <th>difficulty</th>\n",
       "    </tr>\n",
       "  </thead>\n",
       "  <tbody>\n",
       "    <tr>\n",
       "      <th>0</th>\n",
       "      <td>TD 2020</td>\n",
       "      <td>Introduction to Python</td>\n",
       "      <td>for, loops, functions, while, logic, variables...</td>\n",
       "      <td>Are you new to programming? Or do you want a r...</td>\n",
       "      <td>CS</td>\n",
       "      <td>0</td>\n",
       "    </tr>\n",
       "    <tr>\n",
       "      <th>1</th>\n",
       "      <td>TD 2020</td>\n",
       "      <td>Storytelling with Data</td>\n",
       "      <td>presenting, impact, business, data science</td>\n",
       "      <td>In this talk, we will describe how we use data...</td>\n",
       "      <td>Industry</td>\n",
       "      <td>0</td>\n",
       "    </tr>\n",
       "    <tr>\n",
       "      <th>2</th>\n",
       "      <td>TD 2020</td>\n",
       "      <td>Stats for Data Scientists</td>\n",
       "      <td>statistics, confidence interval, testing, stat...</td>\n",
       "      <td>In this talk, we will discuss some aspects of ...</td>\n",
       "      <td>DS</td>\n",
       "      <td>0</td>\n",
       "    </tr>\n",
       "    <tr>\n",
       "      <th>3</th>\n",
       "      <td>TD 2020</td>\n",
       "      <td>How To Win TAMU Datathon</td>\n",
       "      <td>win, advice, datathon, hackathon</td>\n",
       "      <td>Learn how to win at TAMU Datathon from last ye...</td>\n",
       "      <td>Industry</td>\n",
       "      <td>0</td>\n",
       "    </tr>\n",
       "    <tr>\n",
       "      <th>4</th>\n",
       "      <td>TD 2020</td>\n",
       "      <td>Intro to Natural Language Processing</td>\n",
       "      <td>sklearn, gensim, nltk, tfidf, TfidfVectorizer,...</td>\n",
       "      <td>Interested in learning what Natural Language P...</td>\n",
       "      <td>ML</td>\n",
       "      <td>2</td>\n",
       "    </tr>\n",
       "  </tbody>\n",
       "</table>\n",
       "</div>"
      ],
      "text/plain": [
       "     event                              workshop  \\\n",
       "0  TD 2020                Introduction to Python   \n",
       "1  TD 2020                Storytelling with Data   \n",
       "2  TD 2020             Stats for Data Scientists   \n",
       "3  TD 2020              How To Win TAMU Datathon   \n",
       "4  TD 2020  Intro to Natural Language Processing   \n",
       "\n",
       "                                                tags  \\\n",
       "0  for, loops, functions, while, logic, variables...   \n",
       "1         presenting, impact, business, data science   \n",
       "2  statistics, confidence interval, testing, stat...   \n",
       "3                   win, advice, datathon, hackathon   \n",
       "4  sklearn, gensim, nltk, tfidf, TfidfVectorizer,...   \n",
       "\n",
       "                                         description     track  difficulty  \n",
       "0  Are you new to programming? Or do you want a r...        CS           0  \n",
       "1  In this talk, we will describe how we use data...  Industry           0  \n",
       "2  In this talk, we will discuss some aspects of ...        DS           0  \n",
       "3  Learn how to win at TAMU Datathon from last ye...  Industry           0  \n",
       "4  Interested in learning what Natural Language P...        ML           2  "
      ]
     },
     "execution_count": 68,
     "metadata": {},
     "output_type": "execute_result"
    }
   ],
   "source": [
    "workshops.head()"
   ]
  },
  {
   "cell_type": "code",
   "execution_count": 69,
   "metadata": {
    "scrolled": false
   },
   "outputs": [
    {
     "data": {
      "text/html": [
       "<div>\n",
       "<style scoped>\n",
       "    .dataframe tbody tr th:only-of-type {\n",
       "        vertical-align: middle;\n",
       "    }\n",
       "\n",
       "    .dataframe tbody tr th {\n",
       "        vertical-align: top;\n",
       "    }\n",
       "\n",
       "    .dataframe thead th {\n",
       "        text-align: right;\n",
       "    }\n",
       "</style>\n",
       "<table border=\"1\" class=\"dataframe\">\n",
       "  <thead>\n",
       "    <tr style=\"text-align: right;\">\n",
       "      <th></th>\n",
       "      <th>query</th>\n",
       "      <th>workshop</th>\n",
       "    </tr>\n",
       "  </thead>\n",
       "  <tbody>\n",
       "    <tr>\n",
       "      <th>0</th>\n",
       "      <td>Using machine learning</td>\n",
       "      <td>Machine Learning Part 2/2: Applied</td>\n",
       "    </tr>\n",
       "    <tr>\n",
       "      <th>1</th>\n",
       "      <td>underlying math</td>\n",
       "      <td>Machine Learning Part 1/2: Theory</td>\n",
       "    </tr>\n",
       "    <tr>\n",
       "      <th>2</th>\n",
       "      <td>The math portion</td>\n",
       "      <td>Machine Learning Part 1/2: Theory</td>\n",
       "    </tr>\n",
       "    <tr>\n",
       "      <th>3</th>\n",
       "      <td>TensorFlow</td>\n",
       "      <td>Intro to Neural Networks</td>\n",
       "    </tr>\n",
       "    <tr>\n",
       "      <th>4</th>\n",
       "      <td>Statisticd</td>\n",
       "      <td>Stats for Data Scientists</td>\n",
       "    </tr>\n",
       "  </tbody>\n",
       "</table>\n",
       "</div>"
      ],
      "text/plain": [
       "                    query                            workshop\n",
       "0  Using machine learning  Machine Learning Part 2/2: Applied\n",
       "1         underlying math   Machine Learning Part 1/2: Theory\n",
       "2        The math portion   Machine Learning Part 1/2: Theory\n",
       "3              TensorFlow            Intro to Neural Networks\n",
       "4              Statisticd           Stats for Data Scientists"
      ]
     },
     "execution_count": 69,
     "metadata": {},
     "output_type": "execute_result"
    }
   ],
   "source": [
    "queries.head()"
   ]
  },
  {
   "cell_type": "code",
   "execution_count": 70,
   "metadata": {},
   "outputs": [
    {
     "data": {
      "text/plain": [
       "((214, 2), (1250, 13), (21, 6), (47, 2))"
      ]
     },
     "execution_count": 70,
     "metadata": {},
     "output_type": "execute_result"
    }
   ],
   "source": [
    "bootcamp.shape, applicants.shape, workshops.shape, queries.shape"
   ]
  },
  {
   "cell_type": "markdown",
   "metadata": {},
   "source": [
    "### Applicants"
   ]
  },
  {
   "cell_type": "code",
   "execution_count": 71,
   "metadata": {},
   "outputs": [],
   "source": [
    "applicants.age_bin = applicants.age_bin.map({'(15, 18]' : 0, '(18, 20]': 1, '(20, 22]': 2, '(22, 25]': 3,\n",
    "                        '(25, 30]' : 4, '(30, 50]': 5})"
   ]
  },
  {
   "cell_type": "code",
   "execution_count": 72,
   "metadata": {},
   "outputs": [],
   "source": [
    "applicants['undergrad'] = applicants.classification.apply(lambda x: 1 if x in ('Jr', 'Sr', 'So', 'Fr') else 0)\n",
    "applicants['Masters'] = applicants.classification.apply(lambda x: 1 if x == 'Ma' else 0)\n",
    "applicants['PhD'] = applicants.classification.apply(lambda x: 1 if x == 'PhD' else 0)\n",
    "applicants.classification = applicants.classification.map({'O': 0, 'Fr':1 , 'So':2, 'Jr':3, 'Sr':4, 'Ma':5, 'PhD':6})"
   ]
  },
  {
   "cell_type": "code",
   "execution_count": 73,
   "metadata": {},
   "outputs": [],
   "source": [
    "applicants.first_generation = applicants.first_generation.apply(lambda x: 1 if x==1 else 0)"
   ]
  },
  {
   "cell_type": "code",
   "execution_count": 74,
   "metadata": {},
   "outputs": [],
   "source": [
    "applicants.technology_experience = applicants.technology_experience.str.replace('[', '')\n",
    "applicants.technology_experience = applicants.technology_experience.str.replace(']', '')\n",
    "applicants.technology_experience = applicants.technology_experience.str.replace(\"'\", \"\")\n",
    "applicants.technology_experience = applicants.technology_experience.str.replace(\"'\", \"\")\n",
    "applicants.technology_experience = applicants.technology_experience.str.replace(\" \", \"\")\n",
    "\n",
    "technologies = []\n",
    "\n",
    "for i in applicants.technology_experience:\n",
    "    for j in i.split(','):\n",
    "        if j not in technologies:\n",
    "            technologies = technologies + [j]\n",
    "\n",
    "for i in technologies:\n",
    "    if len(i)>0:\n",
    "        applicants[i] = applicants.technology_experience.apply(lambda x: 1 if i in x else 0)"
   ]
  },
  {
   "cell_type": "code",
   "execution_count": 75,
   "metadata": {},
   "outputs": [],
   "source": [
    "applicants.relavent_industries = applicants.relavent_industries.str.replace('[', '')\n",
    "applicants.relavent_industries = applicants.relavent_industries.str.replace(']', '')\n",
    "applicants.relavent_industries = applicants.relavent_industries.str.replace(\"'\", \"\")\n",
    "applicants.relavent_industries = applicants.relavent_industries.str.replace(\"'\", \"\")\n",
    "applicants.relavent_industries = applicants.relavent_industries.str.replace(\" \", \"\")\n",
    "\n",
    "industries = []\n",
    "\n",
    "for i in applicants.relavent_industries:\n",
    "    for j in i.split(','):\n",
    "        if j not in industries:\n",
    "            industries = industries + [j]\n",
    "\n",
    "for i in industries:\n",
    "    if len(i)>0:\n",
    "        applicants[i] = applicants.relavent_industries.apply(lambda x: 1 if i in x else 0)"
   ]
  },
  {
   "cell_type": "code",
   "execution_count": 76,
   "metadata": {},
   "outputs": [],
   "source": [
    "applicants.drop(['technology_experience', 'relavent_industries'], axis = 1, inplace = True)"
   ]
  },
  {
   "cell_type": "code",
   "execution_count": 77,
   "metadata": {},
   "outputs": [],
   "source": [
    "applicants.majors = applicants.majors.str.replace('[', '')\n",
    "applicants.majors = applicants.majors.str.replace(']', '')\n",
    "applicants.majors = applicants.majors.str.replace(\"'\", \"\")\n",
    "applicants.majors = applicants.majors.str.replace(\"'\", \"\")\n",
    "\n",
    "majors = []\n",
    "\n",
    "for i in applicants.majors:\n",
    "    for j in i.split(','):\n",
    "        j = j.strip()\n",
    "        if j not in majors:\n",
    "            majors = majors + [j]\n"
   ]
  },
  {
   "cell_type": "code",
   "execution_count": 78,
   "metadata": {},
   "outputs": [
    {
     "name": "stdout",
     "output_type": "stream",
     "text": [
      "majors 62\n"
     ]
    }
   ],
   "source": [
    "print('majors', len(majors))"
   ]
  },
  {
   "cell_type": "code",
   "execution_count": 79,
   "metadata": {},
   "outputs": [
    {
     "data": {
      "text/plain": [
       "(1250, 42)"
      ]
     },
     "execution_count": 79,
     "metadata": {},
     "output_type": "execute_result"
    }
   ],
   "source": [
    "applicants.shape"
   ]
  },
  {
   "cell_type": "code",
   "execution_count": 80,
   "metadata": {},
   "outputs": [],
   "source": [
    "for i in majors:\n",
    "    if len(i)>0:\n",
    "        applicants[i] = applicants.majors.apply(lambda x: 1 if i in x else 0)"
   ]
  },
  {
   "cell_type": "code",
   "execution_count": 81,
   "metadata": {},
   "outputs": [
    {
     "data": {
      "text/plain": [
       "(1250, 104)"
      ]
     },
     "execution_count": 81,
     "metadata": {},
     "output_type": "execute_result"
    }
   ],
   "source": [
    "applicants.shape"
   ]
  },
  {
   "cell_type": "code",
   "execution_count": 82,
   "metadata": {},
   "outputs": [],
   "source": [
    "applicants.drop('majors', axis = 1, inplace = True)"
   ]
  },
  {
   "cell_type": "code",
   "execution_count": 83,
   "metadata": {},
   "outputs": [],
   "source": [
    "applicants.minors = applicants.minors.str.replace('[', '')\n",
    "applicants.minors = applicants.minors.str.replace(']', '')\n",
    "applicants.minors = applicants.minors.str.replace(\"'\", \"\")\n",
    "applicants.minors = applicants.minors.str.replace(\"'\", \"\")\n",
    "\n",
    "applicants['Has_minor'] = applicants.minors.apply(lambda x: 1 if len(x)>0 else 0)"
   ]
  },
  {
   "cell_type": "code",
   "execution_count": 84,
   "metadata": {},
   "outputs": [],
   "source": [
    "for i in applicants.minors:\n",
    "    if len(i)>0:\n",
    "        for j in i.split(','):\n",
    "            j = j.strip()\n",
    "            if j not in majors:\n",
    "                majors = majors + [j]"
   ]
  },
  {
   "cell_type": "code",
   "execution_count": 85,
   "metadata": {},
   "outputs": [
    {
     "data": {
      "text/plain": [
       "71"
      ]
     },
     "execution_count": 85,
     "metadata": {},
     "output_type": "execute_result"
    }
   ],
   "source": [
    "len(majors)"
   ]
  },
  {
   "cell_type": "code",
   "execution_count": 86,
   "metadata": {},
   "outputs": [
    {
     "data": {
      "text/plain": [
       "(1250, 104)"
      ]
     },
     "execution_count": 86,
     "metadata": {},
     "output_type": "execute_result"
    }
   ],
   "source": [
    "applicants.shape"
   ]
  },
  {
   "cell_type": "code",
   "execution_count": 87,
   "metadata": {},
   "outputs": [],
   "source": [
    "for i in majors:\n",
    "    if len(i)>0:\n",
    "        applicants[i] = applicants.minors.apply(lambda x: 1 if i in x else 0)"
   ]
  },
  {
   "cell_type": "code",
   "execution_count": 88,
   "metadata": {},
   "outputs": [
    {
     "data": {
      "text/plain": [
       "(1250, 113)"
      ]
     },
     "execution_count": 88,
     "metadata": {},
     "output_type": "execute_result"
    }
   ],
   "source": [
    "applicants.shape"
   ]
  },
  {
   "cell_type": "code",
   "execution_count": 89,
   "metadata": {},
   "outputs": [],
   "source": [
    "applicants.drop('minors', axis = 1, inplace = True)"
   ]
  },
  {
   "cell_type": "code",
   "execution_count": 90,
   "metadata": {},
   "outputs": [],
   "source": [
    "applicants.num_hackathons_attended = applicants.num_hackathons_attended.map({'0':0, '1-3':1, '4-7':2, '8-10':3, '10+':4})"
   ]
  },
  {
   "cell_type": "markdown",
   "metadata": {},
   "source": [
    "Schools"
   ]
  },
  {
   "cell_type": "code",
   "execution_count": 91,
   "metadata": {},
   "outputs": [],
   "source": [
    "import category_encoders as ce\n",
    "encoder = ce.BinaryEncoder(cols=['school'],return_df=True)\n",
    "\n",
    "bin_schools = encoder.fit_transform(applicants.school)"
   ]
  },
  {
   "cell_type": "code",
   "execution_count": 98,
   "metadata": {},
   "outputs": [],
   "source": [
    "applicants = pd.concat([applicants, bin_schools], axis=1, sort=False)"
   ]
  },
  {
   "cell_type": "code",
   "execution_count": 102,
   "metadata": {},
   "outputs": [],
   "source": [
    "applicants.drop(['school', 'other_school'], axis =1, inplace = True)"
   ]
  },
  {
   "cell_type": "code",
   "execution_count": 105,
   "metadata": {},
   "outputs": [],
   "source": [
    "applicants.to_csv('applicants_cleans.csv', index = False)"
   ]
  },
  {
   "cell_type": "code",
   "execution_count": 106,
   "metadata": {},
   "outputs": [
    {
     "data": {
      "text/html": [
       "<div>\n",
       "<style scoped>\n",
       "    .dataframe tbody tr th:only-of-type {\n",
       "        vertical-align: middle;\n",
       "    }\n",
       "\n",
       "    .dataframe tbody tr th {\n",
       "        vertical-align: top;\n",
       "    }\n",
       "\n",
       "    .dataframe thead th {\n",
       "        text-align: right;\n",
       "    }\n",
       "</style>\n",
       "<table border=\"1\" class=\"dataframe\">\n",
       "  <thead>\n",
       "    <tr style=\"text-align: right;\">\n",
       "      <th></th>\n",
       "      <th>userid</th>\n",
       "      <th>age_bin</th>\n",
       "      <th>classification</th>\n",
       "      <th>first_generation</th>\n",
       "      <th>datascience_experience</th>\n",
       "      <th>num_hackathons_attended</th>\n",
       "      <th>workshop_suggestions</th>\n",
       "      <th>undergrad</th>\n",
       "      <th>Masters</th>\n",
       "      <th>PhD</th>\n",
       "      <th>...</th>\n",
       "      <th>Anthropology</th>\n",
       "      <th>Public Service and Administration</th>\n",
       "      <th>school_0</th>\n",
       "      <th>school_1</th>\n",
       "      <th>school_2</th>\n",
       "      <th>school_3</th>\n",
       "      <th>school_4</th>\n",
       "      <th>school_5</th>\n",
       "      <th>school_6</th>\n",
       "      <th>school_7</th>\n",
       "    </tr>\n",
       "  </thead>\n",
       "  <tbody>\n",
       "    <tr>\n",
       "      <th>0</th>\n",
       "      <td>95030aef3e970680d882f1527f549d9e</td>\n",
       "      <td>4</td>\n",
       "      <td>5</td>\n",
       "      <td>0</td>\n",
       "      <td>2</td>\n",
       "      <td>0</td>\n",
       "      <td>Python Fundamentals (Functions/Loops)\\nVisuali...</td>\n",
       "      <td>0</td>\n",
       "      <td>1</td>\n",
       "      <td>0</td>\n",
       "      <td>...</td>\n",
       "      <td>0</td>\n",
       "      <td>0</td>\n",
       "      <td>0</td>\n",
       "      <td>0</td>\n",
       "      <td>0</td>\n",
       "      <td>0</td>\n",
       "      <td>0</td>\n",
       "      <td>0</td>\n",
       "      <td>0</td>\n",
       "      <td>1</td>\n",
       "    </tr>\n",
       "    <tr>\n",
       "      <th>1</th>\n",
       "      <td>68ad76832a913de0d62df103b3d5b807</td>\n",
       "      <td>1</td>\n",
       "      <td>3</td>\n",
       "      <td>1</td>\n",
       "      <td>2</td>\n",
       "      <td>0</td>\n",
       "      <td>Training videos on different levels of machine...</td>\n",
       "      <td>1</td>\n",
       "      <td>0</td>\n",
       "      <td>0</td>\n",
       "      <td>...</td>\n",
       "      <td>0</td>\n",
       "      <td>0</td>\n",
       "      <td>0</td>\n",
       "      <td>0</td>\n",
       "      <td>0</td>\n",
       "      <td>0</td>\n",
       "      <td>0</td>\n",
       "      <td>0</td>\n",
       "      <td>0</td>\n",
       "      <td>1</td>\n",
       "    </tr>\n",
       "    <tr>\n",
       "      <th>2</th>\n",
       "      <td>959d8992667c8bfc1ac665f234360eb6</td>\n",
       "      <td>3</td>\n",
       "      <td>5</td>\n",
       "      <td>1</td>\n",
       "      <td>2</td>\n",
       "      <td>0</td>\n",
       "      <td>NaN</td>\n",
       "      <td>0</td>\n",
       "      <td>1</td>\n",
       "      <td>0</td>\n",
       "      <td>...</td>\n",
       "      <td>0</td>\n",
       "      <td>0</td>\n",
       "      <td>0</td>\n",
       "      <td>0</td>\n",
       "      <td>0</td>\n",
       "      <td>0</td>\n",
       "      <td>0</td>\n",
       "      <td>0</td>\n",
       "      <td>1</td>\n",
       "      <td>0</td>\n",
       "    </tr>\n",
       "    <tr>\n",
       "      <th>3</th>\n",
       "      <td>76b067cd5f3e1b1976d2e2eeceedf567</td>\n",
       "      <td>1</td>\n",
       "      <td>3</td>\n",
       "      <td>0</td>\n",
       "      <td>1</td>\n",
       "      <td>0</td>\n",
       "      <td>Python data science</td>\n",
       "      <td>1</td>\n",
       "      <td>0</td>\n",
       "      <td>0</td>\n",
       "      <td>...</td>\n",
       "      <td>0</td>\n",
       "      <td>0</td>\n",
       "      <td>0</td>\n",
       "      <td>0</td>\n",
       "      <td>0</td>\n",
       "      <td>0</td>\n",
       "      <td>0</td>\n",
       "      <td>0</td>\n",
       "      <td>1</td>\n",
       "      <td>1</td>\n",
       "    </tr>\n",
       "    <tr>\n",
       "      <th>4</th>\n",
       "      <td>f44cfb96520a82e172ce2ae116b21187</td>\n",
       "      <td>3</td>\n",
       "      <td>4</td>\n",
       "      <td>0</td>\n",
       "      <td>1</td>\n",
       "      <td>0</td>\n",
       "      <td>NaN</td>\n",
       "      <td>1</td>\n",
       "      <td>0</td>\n",
       "      <td>0</td>\n",
       "      <td>...</td>\n",
       "      <td>0</td>\n",
       "      <td>0</td>\n",
       "      <td>0</td>\n",
       "      <td>0</td>\n",
       "      <td>0</td>\n",
       "      <td>0</td>\n",
       "      <td>0</td>\n",
       "      <td>0</td>\n",
       "      <td>0</td>\n",
       "      <td>1</td>\n",
       "    </tr>\n",
       "  </tbody>\n",
       "</table>\n",
       "<p>5 rows × 118 columns</p>\n",
       "</div>"
      ],
      "text/plain": [
       "                             userid  age_bin  classification  \\\n",
       "0  95030aef3e970680d882f1527f549d9e        4               5   \n",
       "1  68ad76832a913de0d62df103b3d5b807        1               3   \n",
       "2  959d8992667c8bfc1ac665f234360eb6        3               5   \n",
       "3  76b067cd5f3e1b1976d2e2eeceedf567        1               3   \n",
       "4  f44cfb96520a82e172ce2ae116b21187        3               4   \n",
       "\n",
       "   first_generation  datascience_experience  num_hackathons_attended  \\\n",
       "0                 0                       2                        0   \n",
       "1                 1                       2                        0   \n",
       "2                 1                       2                        0   \n",
       "3                 0                       1                        0   \n",
       "4                 0                       1                        0   \n",
       "\n",
       "                                workshop_suggestions  undergrad  Masters  PhD  \\\n",
       "0  Python Fundamentals (Functions/Loops)\\nVisuali...          0        1    0   \n",
       "1  Training videos on different levels of machine...          1        0    0   \n",
       "2                                                NaN          0        1    0   \n",
       "3                                Python data science          1        0    0   \n",
       "4                                                NaN          1        0    0   \n",
       "\n",
       "   ...  Anthropology  Public Service and Administration  school_0  school_1  \\\n",
       "0  ...             0                                  0         0         0   \n",
       "1  ...             0                                  0         0         0   \n",
       "2  ...             0                                  0         0         0   \n",
       "3  ...             0                                  0         0         0   \n",
       "4  ...             0                                  0         0         0   \n",
       "\n",
       "   school_2  school_3  school_4  school_5  school_6  school_7  \n",
       "0         0         0         0         0         0         1  \n",
       "1         0         0         0         0         0         1  \n",
       "2         0         0         0         0         1         0  \n",
       "3         0         0         0         0         1         1  \n",
       "4         0         0         0         0         0         1  \n",
       "\n",
       "[5 rows x 118 columns]"
      ]
     },
     "execution_count": 106,
     "metadata": {},
     "output_type": "execute_result"
    }
   ],
   "source": [
    "applicants.head()"
   ]
  },
  {
   "cell_type": "markdown",
   "metadata": {},
   "source": [
    "Final function to prepare dataframe"
   ]
  },
  {
   "cell_type": "code",
   "execution_count": 104,
   "metadata": {},
   "outputs": [],
   "source": [
    "import pickle\n",
    "\n",
    "output = open('encoder.pkl', 'wb')\n",
    "pickle.dump(encoder, output)\n",
    "output.close()\n",
    "\n",
    "output = open('technologies.pkl', 'wb')\n",
    "pickle.dump(technologies, output)\n",
    "output.close()\n",
    "\n",
    "output = open('industries.pkl', 'wb')\n",
    "pickle.dump(industries, output)\n",
    "output.close()\n",
    "\n",
    "output = open('majors.pkl', 'wb')\n",
    "pickle.dump(majors, output)\n",
    "output.close()"
   ]
  },
  {
   "cell_type": "code",
   "execution_count": null,
   "metadata": {},
   "outputs": [],
   "source": []
  }
 ],
 "metadata": {
  "kernelspec": {
   "display_name": "Python 3",
   "language": "python",
   "name": "python3"
  },
  "language_info": {
   "codemirror_mode": {
    "name": "ipython",
    "version": 3
   },
   "file_extension": ".py",
   "mimetype": "text/x-python",
   "name": "python",
   "nbconvert_exporter": "python",
   "pygments_lexer": "ipython3",
   "version": "3.7.3"
  }
 },
 "nbformat": 4,
 "nbformat_minor": 2
}