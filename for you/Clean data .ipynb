{
 "cells": [
  {
   "cell_type": "code",
   "execution_count": 18,
   "metadata": {},
   "outputs": [],
   "source": [
    "import numpy as np\n",
    "import pandas as pd\n",
    "import matplotlib.pyplot as plt\n",
    "import seaborn as sns\n",
    "sns.set_style('darkgrid')\n",
    "pd.options.mode.chained_assignment = None\n",
    "\n",
    "root = 'C:/Data/for-you/'\n",
    "import os"
   ]
  },
  {
   "cell_type": "code",
   "execution_count": 89,
   "metadata": {},
   "outputs": [],
   "source": [
    "applicants = pd.read_csv(root+'applicants.csv')\n",
    "bootcamp = pd.read_csv(root+'bootcamp_turnout.csv')\n",
    "queries = pd.read_csv(root+'queries.csv')\n",
    "workshops = pd.read_csv(root+'workshops.csv')"
   ]
  },
  {
   "cell_type": "code",
   "execution_count": 90,
   "metadata": {},
   "outputs": [
    {
     "data": {
      "text/html": [
       "<div>\n",
       "<style scoped>\n",
       "    .dataframe tbody tr th:only-of-type {\n",
       "        vertical-align: middle;\n",
       "    }\n",
       "\n",
       "    .dataframe tbody tr th {\n",
       "        vertical-align: top;\n",
       "    }\n",
       "\n",
       "    .dataframe thead th {\n",
       "        text-align: right;\n",
       "    }\n",
       "</style>\n",
       "<table border=\"1\" class=\"dataframe\">\n",
       "  <thead>\n",
       "    <tr style=\"text-align: right;\">\n",
       "      <th></th>\n",
       "      <th>userid</th>\n",
       "      <th>school</th>\n",
       "      <th>other_school</th>\n",
       "      <th>majors</th>\n",
       "      <th>minors</th>\n",
       "      <th>age_bin</th>\n",
       "      <th>classification</th>\n",
       "      <th>first_generation</th>\n",
       "      <th>datascience_experience</th>\n",
       "      <th>technology_experience</th>\n",
       "      <th>num_hackathons_attended</th>\n",
       "      <th>workshop_suggestions</th>\n",
       "      <th>relavent_industries</th>\n",
       "    </tr>\n",
       "  </thead>\n",
       "  <tbody>\n",
       "    <tr>\n",
       "      <th>0</th>\n",
       "      <td>95030aef3e970680d882f1527f549d9e</td>\n",
       "      <td>Texas A&amp;M University</td>\n",
       "      <td>NaN</td>\n",
       "      <td>['Landscape Architecture &amp; Urban Planning', 'P...</td>\n",
       "      <td>['Soil and Crop Sciences']</td>\n",
       "      <td>(25, 30]</td>\n",
       "      <td>Ma</td>\n",
       "      <td>False</td>\n",
       "      <td>2</td>\n",
       "      <td>['Excel', 'Python', 'Tableau', 'Pandas']</td>\n",
       "      <td>0</td>\n",
       "      <td>Python Fundamentals (Functions/Loops)\\nVisuali...</td>\n",
       "      <td>['consulting', 'public_policy', 'other']</td>\n",
       "    </tr>\n",
       "    <tr>\n",
       "      <th>1</th>\n",
       "      <td>68ad76832a913de0d62df103b3d5b807</td>\n",
       "      <td>Texas A&amp;M University</td>\n",
       "      <td>NaN</td>\n",
       "      <td>['Electrical Engineering', 'Material Science',...</td>\n",
       "      <td>[]</td>\n",
       "      <td>(18, 20]</td>\n",
       "      <td>Jr</td>\n",
       "      <td>True</td>\n",
       "      <td>2</td>\n",
       "      <td>['Excel', 'Python', 'Pandas', 'NumPy', 'MATLAB']</td>\n",
       "      <td>0</td>\n",
       "      <td>Training videos on different levels of machine...</td>\n",
       "      <td>['technology', 'education', 'healthcare', 'ins...</td>\n",
       "    </tr>\n",
       "    <tr>\n",
       "      <th>2</th>\n",
       "      <td>959d8992667c8bfc1ac665f234360eb6</td>\n",
       "      <td>Oregon State University</td>\n",
       "      <td>NaN</td>\n",
       "      <td>['Computer Science &amp; Engineering']</td>\n",
       "      <td>[]</td>\n",
       "      <td>(22, 25]</td>\n",
       "      <td>Ma</td>\n",
       "      <td>True</td>\n",
       "      <td>2</td>\n",
       "      <td>['Python', 'Pytorch', 'Pandas', 'NumPy', 'Scik...</td>\n",
       "      <td>0</td>\n",
       "      <td>NaN</td>\n",
       "      <td>['technology']</td>\n",
       "    </tr>\n",
       "    <tr>\n",
       "      <th>3</th>\n",
       "      <td>76b067cd5f3e1b1976d2e2eeceedf567</td>\n",
       "      <td>Arizona State University, Tempe Campus</td>\n",
       "      <td>NaN</td>\n",
       "      <td>['Biomedical Engineering']</td>\n",
       "      <td>[]</td>\n",
       "      <td>(18, 20]</td>\n",
       "      <td>Jr</td>\n",
       "      <td>False</td>\n",
       "      <td>1</td>\n",
       "      <td>['Excel', 'MATLAB']</td>\n",
       "      <td>0</td>\n",
       "      <td>Python data science</td>\n",
       "      <td>['technology', 'healthcare']</td>\n",
       "    </tr>\n",
       "    <tr>\n",
       "      <th>4</th>\n",
       "      <td>f44cfb96520a82e172ce2ae116b21187</td>\n",
       "      <td>Texas A&amp;M University</td>\n",
       "      <td>NaN</td>\n",
       "      <td>['Computer Science &amp; Engineering']</td>\n",
       "      <td>[]</td>\n",
       "      <td>(22, 25]</td>\n",
       "      <td>Sr</td>\n",
       "      <td>False</td>\n",
       "      <td>1</td>\n",
       "      <td>['Python', 'Pandas']</td>\n",
       "      <td>0</td>\n",
       "      <td>NaN</td>\n",
       "      <td>[]</td>\n",
       "    </tr>\n",
       "  </tbody>\n",
       "</table>\n",
       "</div>"
      ],
      "text/plain": [
       "                             userid                                  school  \\\n",
       "0  95030aef3e970680d882f1527f549d9e                    Texas A&M University   \n",
       "1  68ad76832a913de0d62df103b3d5b807                    Texas A&M University   \n",
       "2  959d8992667c8bfc1ac665f234360eb6                 Oregon State University   \n",
       "3  76b067cd5f3e1b1976d2e2eeceedf567  Arizona State University, Tempe Campus   \n",
       "4  f44cfb96520a82e172ce2ae116b21187                    Texas A&M University   \n",
       "\n",
       "  other_school                                             majors  \\\n",
       "0          NaN  ['Landscape Architecture & Urban Planning', 'P...   \n",
       "1          NaN  ['Electrical Engineering', 'Material Science',...   \n",
       "2          NaN                 ['Computer Science & Engineering']   \n",
       "3          NaN                         ['Biomedical Engineering']   \n",
       "4          NaN                 ['Computer Science & Engineering']   \n",
       "\n",
       "                       minors   age_bin classification  first_generation  \\\n",
       "0  ['Soil and Crop Sciences']  (25, 30]             Ma             False   \n",
       "1                          []  (18, 20]             Jr              True   \n",
       "2                          []  (22, 25]             Ma              True   \n",
       "3                          []  (18, 20]             Jr             False   \n",
       "4                          []  (22, 25]             Sr             False   \n",
       "\n",
       "   datascience_experience                              technology_experience  \\\n",
       "0                       2           ['Excel', 'Python', 'Tableau', 'Pandas']   \n",
       "1                       2   ['Excel', 'Python', 'Pandas', 'NumPy', 'MATLAB']   \n",
       "2                       2  ['Python', 'Pytorch', 'Pandas', 'NumPy', 'Scik...   \n",
       "3                       1                                ['Excel', 'MATLAB']   \n",
       "4                       1                               ['Python', 'Pandas']   \n",
       "\n",
       "  num_hackathons_attended                               workshop_suggestions  \\\n",
       "0                       0  Python Fundamentals (Functions/Loops)\\nVisuali...   \n",
       "1                       0  Training videos on different levels of machine...   \n",
       "2                       0                                                NaN   \n",
       "3                       0                                Python data science   \n",
       "4                       0                                                NaN   \n",
       "\n",
       "                                 relavent_industries  \n",
       "0           ['consulting', 'public_policy', 'other']  \n",
       "1  ['technology', 'education', 'healthcare', 'ins...  \n",
       "2                                     ['technology']  \n",
       "3                       ['technology', 'healthcare']  \n",
       "4                                                 []  "
      ]
     },
     "execution_count": 90,
     "metadata": {},
     "output_type": "execute_result"
    }
   ],
   "source": [
    "applicants.head()"
   ]
  },
  {
   "cell_type": "code",
   "execution_count": 91,
   "metadata": {},
   "outputs": [
    {
     "data": {
      "text/html": [
       "<div>\n",
       "<style scoped>\n",
       "    .dataframe tbody tr th:only-of-type {\n",
       "        vertical-align: middle;\n",
       "    }\n",
       "\n",
       "    .dataframe tbody tr th {\n",
       "        vertical-align: top;\n",
       "    }\n",
       "\n",
       "    .dataframe thead th {\n",
       "        text-align: right;\n",
       "    }\n",
       "</style>\n",
       "<table border=\"1\" class=\"dataframe\">\n",
       "  <thead>\n",
       "    <tr style=\"text-align: right;\">\n",
       "      <th></th>\n",
       "      <th>userid</th>\n",
       "      <th>workshop</th>\n",
       "    </tr>\n",
       "  </thead>\n",
       "  <tbody>\n",
       "    <tr>\n",
       "      <th>0</th>\n",
       "      <td>f48d02fd46d249ab2c37f925f405139f</td>\n",
       "      <td>Data Science: Start Here</td>\n",
       "    </tr>\n",
       "    <tr>\n",
       "      <th>1</th>\n",
       "      <td>f48d02fd46d249ab2c37f925f405139f</td>\n",
       "      <td>Getting a Job in Data Science</td>\n",
       "    </tr>\n",
       "    <tr>\n",
       "      <th>2</th>\n",
       "      <td>f4610ad445934181ac9982f6ba818907</td>\n",
       "      <td>Story Telling With Data</td>\n",
       "    </tr>\n",
       "    <tr>\n",
       "      <th>3</th>\n",
       "      <td>f4610ad445934181ac9982f6ba818907</td>\n",
       "      <td>Convolutional Neural Networks &amp; Semantic Segme...</td>\n",
       "    </tr>\n",
       "    <tr>\n",
       "      <th>4</th>\n",
       "      <td>f4610ad445934181ac9982f6ba818907</td>\n",
       "      <td>Machine Learning: Start Here</td>\n",
       "    </tr>\n",
       "  </tbody>\n",
       "</table>\n",
       "</div>"
      ],
      "text/plain": [
       "                             userid  \\\n",
       "0  f48d02fd46d249ab2c37f925f405139f   \n",
       "1  f48d02fd46d249ab2c37f925f405139f   \n",
       "2  f4610ad445934181ac9982f6ba818907   \n",
       "3  f4610ad445934181ac9982f6ba818907   \n",
       "4  f4610ad445934181ac9982f6ba818907   \n",
       "\n",
       "                                            workshop  \n",
       "0                           Data Science: Start Here  \n",
       "1                      Getting a Job in Data Science  \n",
       "2                            Story Telling With Data  \n",
       "3  Convolutional Neural Networks & Semantic Segme...  \n",
       "4                       Machine Learning: Start Here  "
      ]
     },
     "execution_count": 91,
     "metadata": {},
     "output_type": "execute_result"
    }
   ],
   "source": [
    "bootcamp.head()"
   ]
  },
  {
   "cell_type": "code",
   "execution_count": 92,
   "metadata": {},
   "outputs": [
    {
     "data": {
      "text/html": [
       "<div>\n",
       "<style scoped>\n",
       "    .dataframe tbody tr th:only-of-type {\n",
       "        vertical-align: middle;\n",
       "    }\n",
       "\n",
       "    .dataframe tbody tr th {\n",
       "        vertical-align: top;\n",
       "    }\n",
       "\n",
       "    .dataframe thead th {\n",
       "        text-align: right;\n",
       "    }\n",
       "</style>\n",
       "<table border=\"1\" class=\"dataframe\">\n",
       "  <thead>\n",
       "    <tr style=\"text-align: right;\">\n",
       "      <th></th>\n",
       "      <th>event</th>\n",
       "      <th>workshop</th>\n",
       "      <th>tags</th>\n",
       "      <th>description</th>\n",
       "      <th>track</th>\n",
       "      <th>difficulty</th>\n",
       "    </tr>\n",
       "  </thead>\n",
       "  <tbody>\n",
       "    <tr>\n",
       "      <th>0</th>\n",
       "      <td>TD 2020</td>\n",
       "      <td>Introduction to Python</td>\n",
       "      <td>for, loops, functions, while, logic, variables...</td>\n",
       "      <td>Are you new to programming? Or do you want a r...</td>\n",
       "      <td>CS</td>\n",
       "      <td>0</td>\n",
       "    </tr>\n",
       "    <tr>\n",
       "      <th>1</th>\n",
       "      <td>TD 2020</td>\n",
       "      <td>Storytelling with Data</td>\n",
       "      <td>presenting, impact, business, data science</td>\n",
       "      <td>In this talk, we will describe how we use data...</td>\n",
       "      <td>Industry</td>\n",
       "      <td>0</td>\n",
       "    </tr>\n",
       "    <tr>\n",
       "      <th>2</th>\n",
       "      <td>TD 2020</td>\n",
       "      <td>Stats for Data Scientists</td>\n",
       "      <td>statistics, confidence interval, testing, stat...</td>\n",
       "      <td>In this talk, we will discuss some aspects of ...</td>\n",
       "      <td>DS</td>\n",
       "      <td>0</td>\n",
       "    </tr>\n",
       "    <tr>\n",
       "      <th>3</th>\n",
       "      <td>TD 2020</td>\n",
       "      <td>How To Win TAMU Datathon</td>\n",
       "      <td>win, advice, datathon, hackathon</td>\n",
       "      <td>Learn how to win at TAMU Datathon from last ye...</td>\n",
       "      <td>Industry</td>\n",
       "      <td>0</td>\n",
       "    </tr>\n",
       "    <tr>\n",
       "      <th>4</th>\n",
       "      <td>TD 2020</td>\n",
       "      <td>Intro to Natural Language Processing</td>\n",
       "      <td>sklearn, gensim, nltk, tfidf, TfidfVectorizer,...</td>\n",
       "      <td>Interested in learning what Natural Language P...</td>\n",
       "      <td>ML</td>\n",
       "      <td>2</td>\n",
       "    </tr>\n",
       "  </tbody>\n",
       "</table>\n",
       "</div>"
      ],
      "text/plain": [
       "     event                              workshop  \\\n",
       "0  TD 2020                Introduction to Python   \n",
       "1  TD 2020                Storytelling with Data   \n",
       "2  TD 2020             Stats for Data Scientists   \n",
       "3  TD 2020              How To Win TAMU Datathon   \n",
       "4  TD 2020  Intro to Natural Language Processing   \n",
       "\n",
       "                                                tags  \\\n",
       "0  for, loops, functions, while, logic, variables...   \n",
       "1         presenting, impact, business, data science   \n",
       "2  statistics, confidence interval, testing, stat...   \n",
       "3                   win, advice, datathon, hackathon   \n",
       "4  sklearn, gensim, nltk, tfidf, TfidfVectorizer,...   \n",
       "\n",
       "                                         description     track  difficulty  \n",
       "0  Are you new to programming? Or do you want a r...        CS           0  \n",
       "1  In this talk, we will describe how we use data...  Industry           0  \n",
       "2  In this talk, we will discuss some aspects of ...        DS           0  \n",
       "3  Learn how to win at TAMU Datathon from last ye...  Industry           0  \n",
       "4  Interested in learning what Natural Language P...        ML           2  "
      ]
     },
     "execution_count": 92,
     "metadata": {},
     "output_type": "execute_result"
    }
   ],
   "source": [
    "workshops.head()"
   ]
  },
  {
   "cell_type": "code",
   "execution_count": 93,
   "metadata": {
    "scrolled": true
   },
   "outputs": [
    {
     "data": {
      "text/html": [
       "<div>\n",
       "<style scoped>\n",
       "    .dataframe tbody tr th:only-of-type {\n",
       "        vertical-align: middle;\n",
       "    }\n",
       "\n",
       "    .dataframe tbody tr th {\n",
       "        vertical-align: top;\n",
       "    }\n",
       "\n",
       "    .dataframe thead th {\n",
       "        text-align: right;\n",
       "    }\n",
       "</style>\n",
       "<table border=\"1\" class=\"dataframe\">\n",
       "  <thead>\n",
       "    <tr style=\"text-align: right;\">\n",
       "      <th></th>\n",
       "      <th>query</th>\n",
       "      <th>workshop</th>\n",
       "    </tr>\n",
       "  </thead>\n",
       "  <tbody>\n",
       "    <tr>\n",
       "      <th>0</th>\n",
       "      <td>Using machine learning</td>\n",
       "      <td>Machine Learning Part 2/2: Applied</td>\n",
       "    </tr>\n",
       "    <tr>\n",
       "      <th>1</th>\n",
       "      <td>underlying math</td>\n",
       "      <td>Machine Learning Part 1/2: Theory</td>\n",
       "    </tr>\n",
       "    <tr>\n",
       "      <th>2</th>\n",
       "      <td>The math portion</td>\n",
       "      <td>Machine Learning Part 1/2: Theory</td>\n",
       "    </tr>\n",
       "    <tr>\n",
       "      <th>3</th>\n",
       "      <td>TensorFlow</td>\n",
       "      <td>Intro to Neural Networks</td>\n",
       "    </tr>\n",
       "    <tr>\n",
       "      <th>4</th>\n",
       "      <td>Statisticd</td>\n",
       "      <td>Stats for Data Scientists</td>\n",
       "    </tr>\n",
       "  </tbody>\n",
       "</table>\n",
       "</div>"
      ],
      "text/plain": [
       "                    query                            workshop\n",
       "0  Using machine learning  Machine Learning Part 2/2: Applied\n",
       "1         underlying math   Machine Learning Part 1/2: Theory\n",
       "2        The math portion   Machine Learning Part 1/2: Theory\n",
       "3              TensorFlow            Intro to Neural Networks\n",
       "4              Statisticd           Stats for Data Scientists"
      ]
     },
     "execution_count": 93,
     "metadata": {},
     "output_type": "execute_result"
    }
   ],
   "source": [
    "queries.head()"
   ]
  },
  {
   "cell_type": "code",
   "execution_count": 94,
   "metadata": {},
   "outputs": [
    {
     "data": {
      "text/plain": [
       "((214, 2), (1250, 13), (21, 6), (47, 2))"
      ]
     },
     "execution_count": 94,
     "metadata": {},
     "output_type": "execute_result"
    }
   ],
   "source": [
    "bootcamp.shape, applicants.shape, workshops.shape, queries.shape"
   ]
  },
  {
   "cell_type": "markdown",
   "metadata": {},
   "source": [
    "### Applicants"
   ]
  },
  {
   "cell_type": "code",
   "execution_count": 95,
   "metadata": {},
   "outputs": [
    {
     "data": {
      "text/html": [
       "<div>\n",
       "<style scoped>\n",
       "    .dataframe tbody tr th:only-of-type {\n",
       "        vertical-align: middle;\n",
       "    }\n",
       "\n",
       "    .dataframe tbody tr th {\n",
       "        vertical-align: top;\n",
       "    }\n",
       "\n",
       "    .dataframe thead th {\n",
       "        text-align: right;\n",
       "    }\n",
       "</style>\n",
       "<table border=\"1\" class=\"dataframe\">\n",
       "  <thead>\n",
       "    <tr style=\"text-align: right;\">\n",
       "      <th></th>\n",
       "      <th>userid</th>\n",
       "      <th>school</th>\n",
       "      <th>other_school</th>\n",
       "      <th>majors</th>\n",
       "      <th>minors</th>\n",
       "      <th>age_bin</th>\n",
       "      <th>classification</th>\n",
       "      <th>first_generation</th>\n",
       "      <th>datascience_experience</th>\n",
       "      <th>technology_experience</th>\n",
       "      <th>num_hackathons_attended</th>\n",
       "      <th>workshop_suggestions</th>\n",
       "      <th>relavent_industries</th>\n",
       "    </tr>\n",
       "  </thead>\n",
       "  <tbody>\n",
       "    <tr>\n",
       "      <th>0</th>\n",
       "      <td>95030aef3e970680d882f1527f549d9e</td>\n",
       "      <td>Texas A&amp;M University</td>\n",
       "      <td>NaN</td>\n",
       "      <td>['Landscape Architecture &amp; Urban Planning', 'P...</td>\n",
       "      <td>['Soil and Crop Sciences']</td>\n",
       "      <td>(25, 30]</td>\n",
       "      <td>Ma</td>\n",
       "      <td>False</td>\n",
       "      <td>2</td>\n",
       "      <td>['Excel', 'Python', 'Tableau', 'Pandas']</td>\n",
       "      <td>0</td>\n",
       "      <td>Python Fundamentals (Functions/Loops)\\nVisuali...</td>\n",
       "      <td>['consulting', 'public_policy', 'other']</td>\n",
       "    </tr>\n",
       "    <tr>\n",
       "      <th>1</th>\n",
       "      <td>68ad76832a913de0d62df103b3d5b807</td>\n",
       "      <td>Texas A&amp;M University</td>\n",
       "      <td>NaN</td>\n",
       "      <td>['Electrical Engineering', 'Material Science',...</td>\n",
       "      <td>[]</td>\n",
       "      <td>(18, 20]</td>\n",
       "      <td>Jr</td>\n",
       "      <td>True</td>\n",
       "      <td>2</td>\n",
       "      <td>['Excel', 'Python', 'Pandas', 'NumPy', 'MATLAB']</td>\n",
       "      <td>0</td>\n",
       "      <td>Training videos on different levels of machine...</td>\n",
       "      <td>['technology', 'education', 'healthcare', 'ins...</td>\n",
       "    </tr>\n",
       "    <tr>\n",
       "      <th>2</th>\n",
       "      <td>959d8992667c8bfc1ac665f234360eb6</td>\n",
       "      <td>Oregon State University</td>\n",
       "      <td>NaN</td>\n",
       "      <td>['Computer Science &amp; Engineering']</td>\n",
       "      <td>[]</td>\n",
       "      <td>(22, 25]</td>\n",
       "      <td>Ma</td>\n",
       "      <td>True</td>\n",
       "      <td>2</td>\n",
       "      <td>['Python', 'Pytorch', 'Pandas', 'NumPy', 'Scik...</td>\n",
       "      <td>0</td>\n",
       "      <td>NaN</td>\n",
       "      <td>['technology']</td>\n",
       "    </tr>\n",
       "    <tr>\n",
       "      <th>3</th>\n",
       "      <td>76b067cd5f3e1b1976d2e2eeceedf567</td>\n",
       "      <td>Arizona State University, Tempe Campus</td>\n",
       "      <td>NaN</td>\n",
       "      <td>['Biomedical Engineering']</td>\n",
       "      <td>[]</td>\n",
       "      <td>(18, 20]</td>\n",
       "      <td>Jr</td>\n",
       "      <td>False</td>\n",
       "      <td>1</td>\n",
       "      <td>['Excel', 'MATLAB']</td>\n",
       "      <td>0</td>\n",
       "      <td>Python data science</td>\n",
       "      <td>['technology', 'healthcare']</td>\n",
       "    </tr>\n",
       "    <tr>\n",
       "      <th>4</th>\n",
       "      <td>f44cfb96520a82e172ce2ae116b21187</td>\n",
       "      <td>Texas A&amp;M University</td>\n",
       "      <td>NaN</td>\n",
       "      <td>['Computer Science &amp; Engineering']</td>\n",
       "      <td>[]</td>\n",
       "      <td>(22, 25]</td>\n",
       "      <td>Sr</td>\n",
       "      <td>False</td>\n",
       "      <td>1</td>\n",
       "      <td>['Python', 'Pandas']</td>\n",
       "      <td>0</td>\n",
       "      <td>NaN</td>\n",
       "      <td>[]</td>\n",
       "    </tr>\n",
       "  </tbody>\n",
       "</table>\n",
       "</div>"
      ],
      "text/plain": [
       "                             userid                                  school  \\\n",
       "0  95030aef3e970680d882f1527f549d9e                    Texas A&M University   \n",
       "1  68ad76832a913de0d62df103b3d5b807                    Texas A&M University   \n",
       "2  959d8992667c8bfc1ac665f234360eb6                 Oregon State University   \n",
       "3  76b067cd5f3e1b1976d2e2eeceedf567  Arizona State University, Tempe Campus   \n",
       "4  f44cfb96520a82e172ce2ae116b21187                    Texas A&M University   \n",
       "\n",
       "  other_school                                             majors  \\\n",
       "0          NaN  ['Landscape Architecture & Urban Planning', 'P...   \n",
       "1          NaN  ['Electrical Engineering', 'Material Science',...   \n",
       "2          NaN                 ['Computer Science & Engineering']   \n",
       "3          NaN                         ['Biomedical Engineering']   \n",
       "4          NaN                 ['Computer Science & Engineering']   \n",
       "\n",
       "                       minors   age_bin classification  first_generation  \\\n",
       "0  ['Soil and Crop Sciences']  (25, 30]             Ma             False   \n",
       "1                          []  (18, 20]             Jr              True   \n",
       "2                          []  (22, 25]             Ma              True   \n",
       "3                          []  (18, 20]             Jr             False   \n",
       "4                          []  (22, 25]             Sr             False   \n",
       "\n",
       "   datascience_experience                              technology_experience  \\\n",
       "0                       2           ['Excel', 'Python', 'Tableau', 'Pandas']   \n",
       "1                       2   ['Excel', 'Python', 'Pandas', 'NumPy', 'MATLAB']   \n",
       "2                       2  ['Python', 'Pytorch', 'Pandas', 'NumPy', 'Scik...   \n",
       "3                       1                                ['Excel', 'MATLAB']   \n",
       "4                       1                               ['Python', 'Pandas']   \n",
       "\n",
       "  num_hackathons_attended                               workshop_suggestions  \\\n",
       "0                       0  Python Fundamentals (Functions/Loops)\\nVisuali...   \n",
       "1                       0  Training videos on different levels of machine...   \n",
       "2                       0                                                NaN   \n",
       "3                       0                                Python data science   \n",
       "4                       0                                                NaN   \n",
       "\n",
       "                                 relavent_industries  \n",
       "0           ['consulting', 'public_policy', 'other']  \n",
       "1  ['technology', 'education', 'healthcare', 'ins...  \n",
       "2                                     ['technology']  \n",
       "3                       ['technology', 'healthcare']  \n",
       "4                                                 []  "
      ]
     },
     "execution_count": 95,
     "metadata": {},
     "output_type": "execute_result"
    }
   ],
   "source": [
    "applicants.head()"
   ]
  },
  {
   "cell_type": "code",
   "execution_count": 96,
   "metadata": {},
   "outputs": [
    {
     "data": {
      "text/plain": [
       "array(['(25, 30]', '(18, 20]', '(22, 25]', '(20, 22]', '(30, 50]',\n",
       "       '(15, 18]'], dtype=object)"
      ]
     },
     "execution_count": 96,
     "metadata": {},
     "output_type": "execute_result"
    }
   ],
   "source": [
    "applicants.age_bin.unique()"
   ]
  },
  {
   "cell_type": "code",
   "execution_count": 97,
   "metadata": {},
   "outputs": [],
   "source": [
    "applicants.age_bin = applicants.age_bin.map({'(15, 18]' : 0, '(18, 20]': 1, '(20, 22]': 2, '(22, 25]': 3, \n",
    "                        '(25, 30]' : 4, '(30, 50]': 5})\n"
   ]
  },
  {
   "cell_type": "code",
   "execution_count": 98,
   "metadata": {},
   "outputs": [
    {
     "data": {
      "text/plain": [
       "array(['Ma', 'Jr', 'Sr', 'So', 'Fr', 'PhD', 'O'], dtype=object)"
      ]
     },
     "execution_count": 98,
     "metadata": {},
     "output_type": "execute_result"
    }
   ],
   "source": [
    "applicants.classification.unique()"
   ]
  },
  {
   "cell_type": "code",
   "execution_count": 99,
   "metadata": {},
   "outputs": [
    {
     "data": {
      "text/plain": [
       "Jr     299\n",
       "Ma     285\n",
       "Sr     202\n",
       "So     199\n",
       "Fr     143\n",
       "PhD     90\n",
       "O       32\n",
       "Name: classification, dtype: int64"
      ]
     },
     "execution_count": 99,
     "metadata": {},
     "output_type": "execute_result"
    }
   ],
   "source": [
    "applicants.classification.value_counts()"
   ]
  },
  {
   "cell_type": "code",
   "execution_count": 100,
   "metadata": {},
   "outputs": [],
   "source": [
    "applicants['undergrad'] = applicants.classification.apply(lambda x: 1 if x in ('Jr', 'Sr', 'So', 'Fr') else 0)\n",
    "applicants['Masters'] = applicants.classification.apply(lambda x: 1 if x == 'Ma' else 0)\n",
    "applicants['PhD'] = applicants.classification.apply(lambda x: 1 if x == 'PhD' else 0)\n",
    "applicants.classification = applicants.classification.map({'O': 0, 'Fr':1 , 'So':2, 'Jr':3, 'Sr':4, 'Ma':5, 'PhD':6})"
   ]
  },
  {
   "cell_type": "code",
   "execution_count": 101,
   "metadata": {},
   "outputs": [
    {
     "data": {
      "text/plain": [
       "False    995\n",
       "True     255\n",
       "Name: first_generation, dtype: int64"
      ]
     },
     "execution_count": 101,
     "metadata": {},
     "output_type": "execute_result"
    }
   ],
   "source": [
    "applicants.first_generation.value_counts()"
   ]
  },
  {
   "cell_type": "code",
   "execution_count": 102,
   "metadata": {},
   "outputs": [],
   "source": [
    "applicants.first_generation = applicants.first_generation.apply(lambda x: 1 if x==1 else 0)"
   ]
  },
  {
   "cell_type": "code",
   "execution_count": 103,
   "metadata": {},
   "outputs": [],
   "source": [
    "applicants.technology_experience = applicants.technology_experience.str.replace('[', '')\n",
    "applicants.technology_experience = applicants.technology_experience.str.replace(']', '')\n",
    "applicants.technology_experience = applicants.technology_experience.str.replace(\"'\", \"\")\n",
    "applicants.technology_experience = applicants.technology_experience.str.replace(\"'\", \"\")\n",
    "applicants.technology_experience = applicants.technology_experience.str.replace(\" \", \"\")"
   ]
  },
  {
   "cell_type": "code",
   "execution_count": 104,
   "metadata": {},
   "outputs": [
    {
     "data": {
      "text/plain": [
       "['Excel',\n",
       " 'Python',\n",
       " 'Tableau',\n",
       " 'Pandas',\n",
       " 'NumPy',\n",
       " 'MATLAB',\n",
       " 'Pytorch',\n",
       " 'Scikit-learn',\n",
       " 'full_stack',\n",
       " 'TensorFlow',\n",
       " 'R',\n",
       " 'SQL',\n",
       " 'dev_ops',\n",
       " '',\n",
       " 'Keras',\n",
       " 'cloud']"
      ]
     },
     "execution_count": 104,
     "metadata": {},
     "output_type": "execute_result"
    }
   ],
   "source": [
    "technologies = []\n",
    "\n",
    "for i in applicants.technology_experience:\n",
    "    for j in i.split(','):\n",
    "        if j not in technologies:\n",
    "            technologies = technologies + [j]\n",
    "\n",
    "technologies   "
   ]
  },
  {
   "cell_type": "code",
   "execution_count": 105,
   "metadata": {},
   "outputs": [],
   "source": [
    "for i in technologies:\n",
    "    if len(i)>0:\n",
    "        applicants[i] = applicants.technology_experience.apply(lambda x: 1 if i in x else 0)"
   ]
  },
  {
   "cell_type": "code",
   "execution_count": 106,
   "metadata": {},
   "outputs": [],
   "source": [
    "applicants.drop('technology_experience', axis = 1, inplace = True)"
   ]
  },
  {
   "cell_type": "code",
   "execution_count": 107,
   "metadata": {},
   "outputs": [],
   "source": [
    "applicants.relavent_industries = applicants.relavent_industries.str.replace('[', '')\n",
    "applicants.relavent_industries = applicants.relavent_industries.str.replace(']', '')\n",
    "applicants.relavent_industries = applicants.relavent_industries.str.replace(\"'\", \"\")\n",
    "applicants.relavent_industries = applicants.relavent_industries.str.replace(\"'\", \"\")\n",
    "applicants.relavent_industries = applicants.relavent_industries.str.replace(\" \", \"\")"
   ]
  },
  {
   "cell_type": "code",
   "execution_count": 109,
   "metadata": {},
   "outputs": [
    {
     "data": {
      "text/plain": [
       "['consulting',\n",
       " 'public_policy',\n",
       " 'other',\n",
       " 'technology',\n",
       " 'education',\n",
       " 'healthcare',\n",
       " 'insurance',\n",
       " '',\n",
       " 'finance',\n",
       " 'aerospace',\n",
       " 'transportation',\n",
       " 'sports',\n",
       " 'retail',\n",
       " 'energy']"
      ]
     },
     "execution_count": 109,
     "metadata": {},
     "output_type": "execute_result"
    }
   ],
   "source": [
    "industries = []\n",
    "\n",
    "for i in applicants.relavent_industries:\n",
    "    for j in i.split(','):\n",
    "        if j not in industries:\n",
    "            industries = industries + [j]\n",
    "\n",
    "industries   "
   ]
  },
  {
   "cell_type": "code",
   "execution_count": 110,
   "metadata": {},
   "outputs": [],
   "source": [
    "for i in industries:\n",
    "    if len(i)>0:\n",
    "        applicants[i] = applicants.relavent_industries.apply(lambda x: 1 if i in x else 0)"
   ]
  },
  {
   "cell_type": "code",
   "execution_count": 111,
   "metadata": {},
   "outputs": [
    {
     "data": {
      "text/html": [
       "<div>\n",
       "<style scoped>\n",
       "    .dataframe tbody tr th:only-of-type {\n",
       "        vertical-align: middle;\n",
       "    }\n",
       "\n",
       "    .dataframe tbody tr th {\n",
       "        vertical-align: top;\n",
       "    }\n",
       "\n",
       "    .dataframe thead th {\n",
       "        text-align: right;\n",
       "    }\n",
       "</style>\n",
       "<table border=\"1\" class=\"dataframe\">\n",
       "  <thead>\n",
       "    <tr style=\"text-align: right;\">\n",
       "      <th></th>\n",
       "      <th>userid</th>\n",
       "      <th>school</th>\n",
       "      <th>other_school</th>\n",
       "      <th>majors</th>\n",
       "      <th>minors</th>\n",
       "      <th>age_bin</th>\n",
       "      <th>classification</th>\n",
       "      <th>first_generation</th>\n",
       "      <th>datascience_experience</th>\n",
       "      <th>num_hackathons_attended</th>\n",
       "      <th>...</th>\n",
       "      <th>technology</th>\n",
       "      <th>education</th>\n",
       "      <th>healthcare</th>\n",
       "      <th>insurance</th>\n",
       "      <th>finance</th>\n",
       "      <th>aerospace</th>\n",
       "      <th>transportation</th>\n",
       "      <th>sports</th>\n",
       "      <th>retail</th>\n",
       "      <th>energy</th>\n",
       "    </tr>\n",
       "  </thead>\n",
       "  <tbody>\n",
       "    <tr>\n",
       "      <th>0</th>\n",
       "      <td>95030aef3e970680d882f1527f549d9e</td>\n",
       "      <td>Texas A&amp;M University</td>\n",
       "      <td>NaN</td>\n",
       "      <td>['Landscape Architecture &amp; Urban Planning', 'P...</td>\n",
       "      <td>['Soil and Crop Sciences']</td>\n",
       "      <td>4</td>\n",
       "      <td>5</td>\n",
       "      <td>0</td>\n",
       "      <td>2</td>\n",
       "      <td>0</td>\n",
       "      <td>...</td>\n",
       "      <td>0</td>\n",
       "      <td>0</td>\n",
       "      <td>0</td>\n",
       "      <td>0</td>\n",
       "      <td>0</td>\n",
       "      <td>0</td>\n",
       "      <td>0</td>\n",
       "      <td>0</td>\n",
       "      <td>0</td>\n",
       "      <td>0</td>\n",
       "    </tr>\n",
       "    <tr>\n",
       "      <th>1</th>\n",
       "      <td>68ad76832a913de0d62df103b3d5b807</td>\n",
       "      <td>Texas A&amp;M University</td>\n",
       "      <td>NaN</td>\n",
       "      <td>['Electrical Engineering', 'Material Science',...</td>\n",
       "      <td>[]</td>\n",
       "      <td>1</td>\n",
       "      <td>3</td>\n",
       "      <td>1</td>\n",
       "      <td>2</td>\n",
       "      <td>0</td>\n",
       "      <td>...</td>\n",
       "      <td>1</td>\n",
       "      <td>1</td>\n",
       "      <td>1</td>\n",
       "      <td>1</td>\n",
       "      <td>0</td>\n",
       "      <td>0</td>\n",
       "      <td>0</td>\n",
       "      <td>0</td>\n",
       "      <td>0</td>\n",
       "      <td>0</td>\n",
       "    </tr>\n",
       "    <tr>\n",
       "      <th>2</th>\n",
       "      <td>959d8992667c8bfc1ac665f234360eb6</td>\n",
       "      <td>Oregon State University</td>\n",
       "      <td>NaN</td>\n",
       "      <td>['Computer Science &amp; Engineering']</td>\n",
       "      <td>[]</td>\n",
       "      <td>3</td>\n",
       "      <td>5</td>\n",
       "      <td>1</td>\n",
       "      <td>2</td>\n",
       "      <td>0</td>\n",
       "      <td>...</td>\n",
       "      <td>1</td>\n",
       "      <td>0</td>\n",
       "      <td>0</td>\n",
       "      <td>0</td>\n",
       "      <td>0</td>\n",
       "      <td>0</td>\n",
       "      <td>0</td>\n",
       "      <td>0</td>\n",
       "      <td>0</td>\n",
       "      <td>0</td>\n",
       "    </tr>\n",
       "    <tr>\n",
       "      <th>3</th>\n",
       "      <td>76b067cd5f3e1b1976d2e2eeceedf567</td>\n",
       "      <td>Arizona State University, Tempe Campus</td>\n",
       "      <td>NaN</td>\n",
       "      <td>['Biomedical Engineering']</td>\n",
       "      <td>[]</td>\n",
       "      <td>1</td>\n",
       "      <td>3</td>\n",
       "      <td>0</td>\n",
       "      <td>1</td>\n",
       "      <td>0</td>\n",
       "      <td>...</td>\n",
       "      <td>1</td>\n",
       "      <td>0</td>\n",
       "      <td>1</td>\n",
       "      <td>0</td>\n",
       "      <td>0</td>\n",
       "      <td>0</td>\n",
       "      <td>0</td>\n",
       "      <td>0</td>\n",
       "      <td>0</td>\n",
       "      <td>0</td>\n",
       "    </tr>\n",
       "    <tr>\n",
       "      <th>4</th>\n",
       "      <td>f44cfb96520a82e172ce2ae116b21187</td>\n",
       "      <td>Texas A&amp;M University</td>\n",
       "      <td>NaN</td>\n",
       "      <td>['Computer Science &amp; Engineering']</td>\n",
       "      <td>[]</td>\n",
       "      <td>3</td>\n",
       "      <td>4</td>\n",
       "      <td>0</td>\n",
       "      <td>1</td>\n",
       "      <td>0</td>\n",
       "      <td>...</td>\n",
       "      <td>0</td>\n",
       "      <td>0</td>\n",
       "      <td>0</td>\n",
       "      <td>0</td>\n",
       "      <td>0</td>\n",
       "      <td>0</td>\n",
       "      <td>0</td>\n",
       "      <td>0</td>\n",
       "      <td>0</td>\n",
       "      <td>0</td>\n",
       "    </tr>\n",
       "  </tbody>\n",
       "</table>\n",
       "<p>5 rows × 43 columns</p>\n",
       "</div>"
      ],
      "text/plain": [
       "                             userid                                  school  \\\n",
       "0  95030aef3e970680d882f1527f549d9e                    Texas A&M University   \n",
       "1  68ad76832a913de0d62df103b3d5b807                    Texas A&M University   \n",
       "2  959d8992667c8bfc1ac665f234360eb6                 Oregon State University   \n",
       "3  76b067cd5f3e1b1976d2e2eeceedf567  Arizona State University, Tempe Campus   \n",
       "4  f44cfb96520a82e172ce2ae116b21187                    Texas A&M University   \n",
       "\n",
       "  other_school                                             majors  \\\n",
       "0          NaN  ['Landscape Architecture & Urban Planning', 'P...   \n",
       "1          NaN  ['Electrical Engineering', 'Material Science',...   \n",
       "2          NaN                 ['Computer Science & Engineering']   \n",
       "3          NaN                         ['Biomedical Engineering']   \n",
       "4          NaN                 ['Computer Science & Engineering']   \n",
       "\n",
       "                       minors  age_bin  classification  first_generation  \\\n",
       "0  ['Soil and Crop Sciences']        4               5                 0   \n",
       "1                          []        1               3                 1   \n",
       "2                          []        3               5                 1   \n",
       "3                          []        1               3                 0   \n",
       "4                          []        3               4                 0   \n",
       "\n",
       "   datascience_experience num_hackathons_attended  ... technology education  \\\n",
       "0                       2                       0  ...          0         0   \n",
       "1                       2                       0  ...          1         1   \n",
       "2                       2                       0  ...          1         0   \n",
       "3                       1                       0  ...          1         0   \n",
       "4                       1                       0  ...          0         0   \n",
       "\n",
       "   healthcare  insurance  finance  aerospace  transportation  sports  retail  \\\n",
       "0           0          0        0          0               0       0       0   \n",
       "1           1          1        0          0               0       0       0   \n",
       "2           0          0        0          0               0       0       0   \n",
       "3           1          0        0          0               0       0       0   \n",
       "4           0          0        0          0               0       0       0   \n",
       "\n",
       "   energy  \n",
       "0       0  \n",
       "1       0  \n",
       "2       0  \n",
       "3       0  \n",
       "4       0  \n",
       "\n",
       "[5 rows x 43 columns]"
      ]
     },
     "execution_count": 111,
     "metadata": {},
     "output_type": "execute_result"
    }
   ],
   "source": [
    "applicants.head()"
   ]
  },
  {
   "cell_type": "code",
   "execution_count": null,
   "metadata": {},
   "outputs": [],
   "source": []
  },
  {
   "cell_type": "code",
   "execution_count": 112,
   "metadata": {},
   "outputs": [
    {
     "data": {
      "text/plain": [
       "0    ['Landscape Architecture & Urban Planning', 'P...\n",
       "1    ['Electrical Engineering', 'Material Science',...\n",
       "2                   ['Computer Science & Engineering']\n",
       "3                           ['Biomedical Engineering']\n",
       "4                   ['Computer Science & Engineering']\n",
       "Name: majors, dtype: object"
      ]
     },
     "execution_count": 112,
     "metadata": {},
     "output_type": "execute_result"
    }
   ],
   "source": [
    "applicants.majors.head()"
   ]
  },
  {
   "cell_type": "code",
   "execution_count": 119,
   "metadata": {},
   "outputs": [],
   "source": [
    "applicants.majors = applicants.majors.str.replace('[', '')\n",
    "applicants.majors = applicants.majors.str.replace(']', '')\n",
    "applicants.majors = applicants.majors.str.replace(\"'\", \"\")\n",
    "applicants.majors = applicants.majors.str.replace(\"'\", \"\")"
   ]
  },
  {
   "cell_type": "code",
   "execution_count": 118,
   "metadata": {},
   "outputs": [
    {
     "data": {
      "text/plain": [
       "'Landscape Architecture & Urban Planning, Plant Pathology and Microbiology'"
      ]
     },
     "execution_count": 118,
     "metadata": {},
     "output_type": "execute_result"
    }
   ],
   "source": [
    "applicants.majors[0].strip()"
   ]
  },
  {
   "cell_type": "code",
   "execution_count": 121,
   "metadata": {},
   "outputs": [
    {
     "data": {
      "text/plain": [
       "['Landscape Architecture & Urban Planning',\n",
       " 'Plant Pathology and Microbiology',\n",
       " 'Electrical Engineering',\n",
       " 'Material Science',\n",
       " 'Mechanical Engineering',\n",
       " 'Computer Science & Engineering',\n",
       " 'Biomedical Engineering',\n",
       " 'Industrial and/or Systems Engineering',\n",
       " 'Economics',\n",
       " 'Finance',\n",
       " 'Applied Mathematics',\n",
       " 'Statistics',\n",
       " 'Management Information Systems',\n",
       " 'Aerospace Engineering',\n",
       " 'Nuclear Engineering',\n",
       " 'Psychology',\n",
       " 'Other',\n",
       " 'Biomedical Sciences',\n",
       " 'Chemistry',\n",
       " 'Ocean Engineering',\n",
       " 'Data Science & Analytics',\n",
       " 'Biology',\n",
       " 'Chemical Engineering',\n",
       " 'Mathematics',\n",
       " 'Petroleum Engineering',\n",
       " 'Astronomy',\n",
       " 'Physics',\n",
       " 'Electronic Systems Engineering',\n",
       " 'Agronomy',\n",
       " 'Atmospheric Sciences',\n",
       " 'Civil Engineering',\n",
       " 'Ecosystem Science and Management',\n",
       " 'Geology',\n",
       " 'Business',\n",
       " 'Biochemistry and Biophysics',\n",
       " 'Analytics',\n",
       " 'Construction Science',\n",
       " 'Neuroscience',\n",
       " 'Architecture',\n",
       " 'Agricultural Economics',\n",
       " 'Geography',\n",
       " 'International Affairs',\n",
       " 'Political Science',\n",
       " 'Engineering Technology & Industrial Distribution',\n",
       " 'Geoscience',\n",
       " 'Accounting',\n",
       " 'Information and Operations Management',\n",
       " 'Information Science',\n",
       " 'Molecular & Cellular Medicine',\n",
       " 'International Studies',\n",
       " 'English',\n",
       " 'Educational Administration & Human Resource Development',\n",
       " 'Soil and Crop Sciences',\n",
       " 'Visualization',\n",
       " 'Biological and Agricultural Engineering',\n",
       " 'Entomology',\n",
       " 'Oceanography',\n",
       " 'Genetics',\n",
       " 'Sociology',\n",
       " 'Public Health',\n",
       " 'Marketing',\n",
       " 'Educational Psychology']"
      ]
     },
     "execution_count": 121,
     "metadata": {},
     "output_type": "execute_result"
    }
   ],
   "source": [
    "majors = []\n",
    "\n",
    "for i in applicants.majors:\n",
    "    for j in i.split(','):\n",
    "        j = j.strip()\n",
    "        if j not in majors:\n",
    "            majors = majors + [j]\n",
    "\n",
    "majors  "
   ]
  },
  {
   "cell_type": "code",
   "execution_count": 127,
   "metadata": {},
   "outputs": [
    {
     "data": {
      "text/plain": [
       "62"
      ]
     },
     "execution_count": 127,
     "metadata": {},
     "output_type": "execute_result"
    }
   ],
   "source": [
    "len(majors)"
   ]
  },
  {
   "cell_type": "code",
   "execution_count": 126,
   "metadata": {},
   "outputs": [
    {
     "data": {
      "text/plain": [
       "(1250, 43)"
      ]
     },
     "execution_count": 126,
     "metadata": {},
     "output_type": "execute_result"
    }
   ],
   "source": [
    "applicants.shape"
   ]
  },
  {
   "cell_type": "code",
   "execution_count": 128,
   "metadata": {},
   "outputs": [],
   "source": [
    "for i in majors:\n",
    "    if len(i)>0:\n",
    "        applicants[i] = applicants.majors.apply(lambda x: 1 if i in x else 0)"
   ]
  },
  {
   "cell_type": "code",
   "execution_count": 129,
   "metadata": {},
   "outputs": [
    {
     "data": {
      "text/plain": [
       "(1250, 105)"
      ]
     },
     "execution_count": 129,
     "metadata": {},
     "output_type": "execute_result"
    }
   ],
   "source": [
    "applicants.shape"
   ]
  },
  {
   "cell_type": "code",
   "execution_count": 130,
   "metadata": {},
   "outputs": [],
   "source": [
    "applicants.drop('majors', axis = 1, inplace = True)"
   ]
  },
  {
   "cell_type": "code",
   "execution_count": 131,
   "metadata": {},
   "outputs": [
    {
     "data": {
      "text/plain": [
       "0    ['Soil and Crop Sciences']\n",
       "1                            []\n",
       "2                            []\n",
       "3                            []\n",
       "4                            []\n",
       "Name: minors, dtype: object"
      ]
     },
     "execution_count": 131,
     "metadata": {},
     "output_type": "execute_result"
    }
   ],
   "source": [
    "applicants.minors.head()"
   ]
  },
  {
   "cell_type": "code",
   "execution_count": 133,
   "metadata": {},
   "outputs": [],
   "source": [
    "applicants.minors = applicants.minors.str.replace('[', '')\n",
    "applicants.minors = applicants.minors.str.replace(']', '')\n",
    "applicants.minors = applicants.minors.str.replace(\"'\", \"\")\n",
    "applicants.minors = applicants.minors.str.replace(\"'\", \"\")"
   ]
  },
  {
   "cell_type": "code",
   "execution_count": 137,
   "metadata": {},
   "outputs": [],
   "source": [
    "applicants['Has_minor'] = applicants.minors.apply(lambda x: 1 if len(x)>0 else 0)"
   ]
  },
  {
   "cell_type": "code",
   "execution_count": 138,
   "metadata": {},
   "outputs": [],
   "source": [
    "for i in applicants.minors:\n",
    "    if len(i)>0:\n",
    "        for j in i.split(','):\n",
    "            j = j.strip()\n",
    "            if j not in majors:\n",
    "                majors = majors + [j]"
   ]
  },
  {
   "cell_type": "code",
   "execution_count": 139,
   "metadata": {},
   "outputs": [
    {
     "data": {
      "text/plain": [
       "['Landscape Architecture & Urban Planning',\n",
       " 'Plant Pathology and Microbiology',\n",
       " 'Electrical Engineering',\n",
       " 'Material Science',\n",
       " 'Mechanical Engineering',\n",
       " 'Computer Science & Engineering',\n",
       " 'Biomedical Engineering',\n",
       " 'Industrial and/or Systems Engineering',\n",
       " 'Economics',\n",
       " 'Finance',\n",
       " 'Applied Mathematics',\n",
       " 'Statistics',\n",
       " 'Management Information Systems',\n",
       " 'Aerospace Engineering',\n",
       " 'Nuclear Engineering',\n",
       " 'Psychology',\n",
       " 'Other',\n",
       " 'Biomedical Sciences',\n",
       " 'Chemistry',\n",
       " 'Ocean Engineering',\n",
       " 'Data Science & Analytics',\n",
       " 'Biology',\n",
       " 'Chemical Engineering',\n",
       " 'Mathematics',\n",
       " 'Petroleum Engineering',\n",
       " 'Astronomy',\n",
       " 'Physics',\n",
       " 'Electronic Systems Engineering',\n",
       " 'Agronomy',\n",
       " 'Atmospheric Sciences',\n",
       " 'Civil Engineering',\n",
       " 'Ecosystem Science and Management',\n",
       " 'Geology',\n",
       " 'Business',\n",
       " 'Biochemistry and Biophysics',\n",
       " 'Analytics',\n",
       " 'Construction Science',\n",
       " 'Neuroscience',\n",
       " 'Architecture',\n",
       " 'Agricultural Economics',\n",
       " 'Geography',\n",
       " 'International Affairs',\n",
       " 'Political Science',\n",
       " 'Engineering Technology & Industrial Distribution',\n",
       " 'Geoscience',\n",
       " 'Accounting',\n",
       " 'Information and Operations Management',\n",
       " 'Information Science',\n",
       " 'Molecular & Cellular Medicine',\n",
       " 'International Studies',\n",
       " 'English',\n",
       " 'Educational Administration & Human Resource Development',\n",
       " 'Soil and Crop Sciences',\n",
       " 'Visualization',\n",
       " 'Biological and Agricultural Engineering',\n",
       " 'Entomology',\n",
       " 'Oceanography',\n",
       " 'Genetics',\n",
       " 'Sociology',\n",
       " 'Public Health',\n",
       " 'Marketing',\n",
       " 'Educational Psychology',\n",
       " 'Hispanic Studies',\n",
       " 'History',\n",
       " 'Philosophy',\n",
       " 'Communications',\n",
       " 'Teaching',\n",
       " 'Learning & Culture',\n",
       " 'Environmental Law',\n",
       " 'Anthropology',\n",
       " 'Public Service and Administration']"
      ]
     },
     "execution_count": 139,
     "metadata": {},
     "output_type": "execute_result"
    }
   ],
   "source": [
    "majors"
   ]
  },
  {
   "cell_type": "code",
   "execution_count": 140,
   "metadata": {},
   "outputs": [
    {
     "data": {
      "text/plain": [
       "71"
      ]
     },
     "execution_count": 140,
     "metadata": {},
     "output_type": "execute_result"
    }
   ],
   "source": [
    "len(majors)"
   ]
  },
  {
   "cell_type": "code",
   "execution_count": 141,
   "metadata": {},
   "outputs": [
    {
     "data": {
      "text/plain": [
       "(1250, 105)"
      ]
     },
     "execution_count": 141,
     "metadata": {},
     "output_type": "execute_result"
    }
   ],
   "source": [
    "applicants.shape"
   ]
  },
  {
   "cell_type": "code",
   "execution_count": 142,
   "metadata": {},
   "outputs": [],
   "source": [
    "for i in majors:\n",
    "    if len(i)>0:\n",
    "        applicants[i] = applicants.minors.apply(lambda x: 1 if i in x else 0)"
   ]
  },
  {
   "cell_type": "code",
   "execution_count": 143,
   "metadata": {},
   "outputs": [
    {
     "data": {
      "text/plain": [
       "(1250, 114)"
      ]
     },
     "execution_count": 143,
     "metadata": {},
     "output_type": "execute_result"
    }
   ],
   "source": [
    "applicants.shape"
   ]
  },
  {
   "cell_type": "code",
   "execution_count": 145,
   "metadata": {},
   "outputs": [
    {
     "data": {
      "text/plain": [
       "True     1141\n",
       "False     109\n",
       "Name: other_school, dtype: int64"
      ]
     },
     "execution_count": 145,
     "metadata": {},
     "output_type": "execute_result"
    }
   ],
   "source": [
    "applicants.other_school.isnull().value_counts()"
   ]
  },
  {
   "cell_type": "code",
   "execution_count": 150,
   "metadata": {},
   "outputs": [
    {
     "data": {
      "text/plain": [
       "Texas A&M University             775\n",
       "Other                            114\n",
       "University of Texas at Austin     30\n",
       "University of Texas at Dallas     27\n",
       "Oregon State University           22\n",
       "Name: school, dtype: int64"
      ]
     },
     "execution_count": 150,
     "metadata": {},
     "output_type": "execute_result"
    }
   ],
   "source": [
    "applicants.school.value_counts().head()"
   ]
  },
  {
   "cell_type": "code",
   "execution_count": 152,
   "metadata": {},
   "outputs": [
    {
     "data": {
      "text/plain": [
       "University of Toronto                 7\n",
       "Universidad Nacional de Ingeniería    4\n",
       "McMaster University                   3\n",
       "Politecnico di Milano                 3\n",
       "Florida Polytechnic University        3\n",
       "Name: other_school, dtype: int64"
      ]
     },
     "execution_count": 152,
     "metadata": {},
     "output_type": "execute_result"
    }
   ],
   "source": [
    "applicants.other_school.value_counts().head()"
   ]
  },
  {
   "cell_type": "code",
   "execution_count": null,
   "metadata": {},
   "outputs": [],
   "source": []
  }
 ],
 "metadata": {
  "kernelspec": {
   "display_name": "Python 3",
   "language": "python",
   "name": "python3"
  },
  "language_info": {
   "codemirror_mode": {
    "name": "ipython",
    "version": 3
   },
   "file_extension": ".py",
   "mimetype": "text/x-python",
   "name": "python",
   "nbconvert_exporter": "python",
   "pygments_lexer": "ipython3",
   "version": "3.7.3"
  }
 },
 "nbformat": 4,
 "nbformat_minor": 2
}
